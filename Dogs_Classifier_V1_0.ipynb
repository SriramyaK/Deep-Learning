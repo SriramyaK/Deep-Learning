{
  "nbformat": 4,
  "nbformat_minor": 0,
  "metadata": {
    "colab": {
      "name": "Dogs Classifier V1.0.ipynb",
      "version": "0.3.2",
      "provenance": [],
      "collapsed_sections": [],
      "include_colab_link": true
    },
    "kernelspec": {
      "name": "python3",
      "display_name": "Python 3"
    },
    "accelerator": "GPU"
  },
  "cells": [
    {
      "cell_type": "markdown",
      "metadata": {
        "id": "view-in-github",
        "colab_type": "text"
      },
      "source": [
        "<a href=\"https://colab.research.google.com/github/SriramyaK/Deep-Learning/blob/master/Dogs_Classifier_V1_0.ipynb\" target=\"_parent\"><img src=\"https://colab.research.google.com/assets/colab-badge.svg\" alt=\"Open In Colab\"/></a>"
      ]
    },
    {
      "cell_type": "code",
      "metadata": {
        "id": "Ep-39wA53aA2",
        "colab_type": "code",
        "outputId": "78c507b1-3948-41ce-ddbd-3a49ba5e7cc9",
        "colab": {
          "base_uri": "https://localhost:8080/",
          "height": 34
        }
      },
      "source": [
        "from google.colab import drive\n",
        "drive.mount('/content/drive/')"
      ],
      "execution_count": 1,
      "outputs": [
        {
          "output_type": "stream",
          "text": [
            "Drive already mounted at /content/drive/; to attempt to forcibly remount, call drive.mount(\"/content/drive/\", force_remount=True).\n"
          ],
          "name": "stdout"
        }
      ]
    },
    {
      "cell_type": "code",
      "metadata": {
        "id": "f917kOOB49p3",
        "colab_type": "code",
        "colab": {}
      },
      "source": [
        "#!unzip -uq \"/content/drive/My Drive/Colab Notebooks/dogImages.zip\" -d \"/content/drive/My Drive/Colab Notebooks\""
      ],
      "execution_count": 0,
      "outputs": []
    },
    {
      "cell_type": "code",
      "metadata": {
        "id": "K3ukqsCvJGYk",
        "colab_type": "code",
        "colab": {}
      },
      "source": [
        "#!unzip -uq \"/content/drive/My Drive/Colab Notebooks/dog-project/lfw.zip\" -d \"/content/drive/My Drive/Colab Notebooks/dog-project/\""
      ],
      "execution_count": 0,
      "outputs": []
    },
    {
      "cell_type": "code",
      "metadata": {
        "id": "XSIFaVDdo2jb",
        "colab_type": "code",
        "colab": {}
      },
      "source": [
        "#!cd \"/content/drive/My Drive/Colab Notebooks/dog-project/haarcascades\""
      ],
      "execution_count": 0,
      "outputs": []
    },
    {
      "cell_type": "code",
      "metadata": {
        "id": "XiT72wxiEnUg",
        "colab_type": "code",
        "outputId": "55f7903a-14fb-4ca3-cfec-e5c4dcf46d7c",
        "colab": {
          "base_uri": "https://localhost:8080/",
          "height": 136
        }
      },
      "source": [
        "from sklearn.datasets import load_files       \n",
        "from keras.utils import np_utils\n",
        "import numpy as np\n",
        "from glob import glob\n",
        "import tensorflow as tf\n",
        "from tensorflow.keras import layers\n",
        "from tensorflow import keras \n",
        "\n",
        "# define function to load train, test, and validation datasets\n",
        "def load_dataset(path):\n",
        "    data = load_files(path)\n",
        "    dog_files = np.array(data['filenames'])\n",
        "    dog_targets = np_utils.to_categorical(np.array(data['target']), 133)\n",
        "    return dog_files, dog_targets\n",
        "\n",
        "# load train, test, and validation datasets\n",
        "train_files, train_targets = load_dataset('/content/drive/My Drive/Colab Notebooks/dog-project/dogImages/train')\n",
        "valid_files, valid_targets = load_dataset('/content/drive/My Drive/Colab Notebooks/dog-project/dogImages/valid')\n",
        "test_files, test_targets = load_dataset('/content/drive/My Drive/Colab Notebooks/dog-project/dogImages/test')\n",
        "\n",
        "# load list of dog names\n",
        "dog_names = [item[20:-1] for item in sorted(glob(\"/content/drive/My Drive/Colab Notebooks/dog-project/dogImages/train/*/\"))]\n",
        "\n",
        "# print statistics about the dataset\n",
        "print('There are %d total dog categories.' % len(dog_names))\n",
        "print('There are %s total dog images.\\n' % len(np.hstack([train_files, valid_files, test_files])))\n",
        "print('There are %d training dog images.' % len(train_files))\n",
        "print('There are %d validation dog images.' % len(valid_files))\n",
        "print('There are %d test dog images.'% len(test_files))"
      ],
      "execution_count": 5,
      "outputs": [
        {
          "output_type": "stream",
          "text": [
            "Using TensorFlow backend.\n"
          ],
          "name": "stderr"
        },
        {
          "output_type": "stream",
          "text": [
            "There are 133 total dog categories.\n",
            "There are 8351 total dog images.\n",
            "\n",
            "There are 6680 training dog images.\n",
            "There are 835 validation dog images.\n",
            "There are 836 test dog images.\n"
          ],
          "name": "stdout"
        }
      ]
    },
    {
      "cell_type": "code",
      "metadata": {
        "id": "jyutK6IqFzga",
        "colab_type": "code",
        "outputId": "3f1faf36-7183-4872-e510-1f4a0dad5a0a",
        "colab": {
          "base_uri": "https://localhost:8080/",
          "height": 34
        }
      },
      "source": [
        "import random\n",
        "random.seed(8675309)\n",
        "\n",
        "human_files = np.array(glob('/content/drive/My Drive/Colab Notebooks/dog-project/lfw/*/*'))\n",
        "random.shuffle(human_files)\n",
        "print('There are %d total human images.' % len(human_files))"
      ],
      "execution_count": 6,
      "outputs": [
        {
          "output_type": "stream",
          "text": [
            "There are 13233 total human images.\n"
          ],
          "name": "stdout"
        }
      ]
    },
    {
      "cell_type": "code",
      "metadata": {
        "id": "TEwexUdylTP2",
        "colab_type": "code",
        "outputId": "ab62e500-21d3-43d9-b3ca-577bf22ec44a",
        "colab": {
          "base_uri": "https://localhost:8080/",
          "height": 34
        }
      },
      "source": [
        "human_files[3]"
      ],
      "execution_count": 7,
      "outputs": [
        {
          "output_type": "execute_result",
          "data": {
            "text/plain": [
              "'/content/drive/My Drive/Colab Notebooks/dog-project/lfw/Lauren_Hutton/Lauren_Hutton_0001.jpg'"
            ]
          },
          "metadata": {
            "tags": []
          },
          "execution_count": 7
        }
      ]
    },
    {
      "cell_type": "code",
      "metadata": {
        "id": "UoMVhlhzidPz",
        "colab_type": "code",
        "outputId": "2b3d0c82-0ad8-418d-f433-7c117bc6e8ef",
        "colab": {
          "base_uri": "https://localhost:8080/",
          "height": 286
        }
      },
      "source": [
        "import cv2\n",
        "import matplotlib.pyplot as plt\n",
        "%matplotlib inline\n",
        "\n",
        "face_cascade = cv2.CascadeClassifier('/content/drive/My Drive/Colab Notebooks/dog-project/haarcascades/haarcascade_frontalface_alt.xml')\n",
        "img = cv2.imread(human_files[3])\n",
        "gray = cv2.cvtColor( img, cv2.COLOR_BGR2GRAY)\n",
        "\n",
        "faces = face_cascade.detectMultiScale(gray)\n",
        "print('Number of faces detected:', len(faces))\n",
        "\n",
        "for (x,y,w,h) in faces:\n",
        "    # add bounding box to color image\n",
        "    cv2.rectangle(img,(x,y),(x+w,y+h),(255,0,0),2)\n",
        "    \n",
        "# convert BGR image to RGB for plotting\n",
        "cv_rgb = cv2.cvtColor(img, cv2.COLOR_BGR2RGB)\n",
        "\n",
        "# display the image, along with bounding box\n",
        "plt.imshow(cv_rgb)\n",
        "plt.show()"
      ],
      "execution_count": 8,
      "outputs": [
        {
          "output_type": "stream",
          "text": [
            "Number of faces detected: 1\n"
          ],
          "name": "stdout"
        },
        {
          "output_type": "display_data",
          "data": {
            "image/png": "[encoded data removed]",
            "text/plain": [
              "<Figure size 432x288 with 1 Axes>"
            ]
          },
          "metadata": {
            "tags": []
          }
        }
      ]
    },
    {
      "cell_type": "code",
      "metadata": {
        "id": "pxIkXEzn3Js9",
        "colab_type": "code",
        "colab": {}
      },
      "source": [
        "def face_detector(img_path):\n",
        "    img = cv2.imread(img_path)\n",
        "    gray = cv2.cvtColor(img, cv2.COLOR_BGR2GRAY)\n",
        "    faces = face_cascade.detectMultiScale(gray)\n",
        "    return len(faces) > 0"
      ],
      "execution_count": 0,
      "outputs": []
    },
    {
      "cell_type": "code",
      "metadata": {
        "id": "-mZEDAn33X33",
        "colab_type": "code",
        "outputId": "c8a4496b-f0e0-4a48-8cd5-082b5c709ddc",
        "colab": {
          "base_uri": "https://localhost:8080/",
          "height": 51
        }
      },
      "source": [
        "human_files_short = human_files[:100]\n",
        "dog_files_short = train_files[:100]\n",
        "# Do NOT modify the code above this line.\n",
        "\n",
        "## TODO: Test the performance of the face_detector algorithm \n",
        "num_trues_1 = 0\n",
        "for i in human_files_short:\n",
        "    pred = face_detector(i)\n",
        "    if pred == True:\n",
        "        num_trues_1 = num_trues_1+1\n",
        "\n",
        "num_trues_2 = 0\n",
        "for i in dog_files_short:\n",
        "    pred = face_detector(i)\n",
        "    if pred == True:\n",
        "        num_trues_2 = num_trues_2+1\n",
        "## on the images in human_files_short and dog_files_short.\n",
        "\n",
        "print (\"Percentage of detected human faces in first 100 human_files is %f\" % ((num_trues_1/100)*100))\n",
        "print (\"Percentage of detected human faces in first 100 dog_files is %f\" % ((num_trues_2/100)*100))"
      ],
      "execution_count": 10,
      "outputs": [
        {
          "output_type": "stream",
          "text": [
            "Percentage of detected human faces in first 100 human_files is 98.000000\n",
            "Percentage of detected human faces in first 100 dog_files is 12.000000\n"
          ],
          "name": "stdout"
        }
      ]
    },
    {
      "cell_type": "code",
      "metadata": {
        "id": "9-m5Wyfxj_XP",
        "colab_type": "code",
        "outputId": "d93b2933-8f5c-4909-99d1-ba9054f09696",
        "colab": {
          "base_uri": "https://localhost:8080/",
          "height": 54
        }
      },
      "source": [
        "'''dnnFaceDetector = dlib.cnn_face_detection_model_v1(\"./mmod_human_face_detector.dat\")\n",
        "faceRects = dnnFaceDetector(frameDlibHogSmall, 0)\n",
        "for faceRect in faceRects:\n",
        "    x1 = faceRect.rect.left()\n",
        "    y1 = faceRect.rect.top()\n",
        "    x2 = faceRect.rect.right()\n",
        "    y2 = faceRect.rect.bottom()'''"
      ],
      "execution_count": 11,
      "outputs": [
        {
          "output_type": "execute_result",
          "data": {
            "text/plain": [
              "'dnnFaceDetector = dlib.cnn_face_detection_model_v1(\"./mmod_human_face_detector.dat\")\\nfaceRects = dnnFaceDetector(frameDlibHogSmall, 0)\\nfor faceRect in faceRects:\\n    x1 = faceRect.rect.left()\\n    y1 = faceRect.rect.top()\\n    x2 = faceRect.rect.right()\\n    y2 = faceRect.rect.bottom()'"
            ]
          },
          "metadata": {
            "tags": []
          },
          "execution_count": 11
        }
      ]
    },
    {
      "cell_type": "code",
      "metadata": {
        "id": "kuOcLpog07wo",
        "colab_type": "code",
        "outputId": "009d72fa-c62b-4e59-cf17-24a3768fd502",
        "colab": {
          "base_uri": "https://localhost:8080/",
          "height": 309
        }
      },
      "source": [
        "from keras.applications.resnet50 import ResNet50\n",
        "ResNet_model = ResNet50(weights='imagenet')\n",
        "print('resnet imported..')"
      ],
      "execution_count": 12,
      "outputs": [
        {
          "output_type": "stream",
          "text": [
            "WARNING: Logging before flag parsing goes to stderr.\n",
            "W0628 00:31:30.608068 140206357174144 deprecation_wrapper.py:119] From /usr/local/lib/python3.6/dist-packages/keras/backend/tensorflow_backend.py:74: The name tf.get_default_graph is deprecated. Please use tf.compat.v1.get_default_graph instead.\n",
            "\n",
            "W0628 00:31:30.635448 140206357174144 deprecation_wrapper.py:119] From /usr/local/lib/python3.6/dist-packages/keras/backend/tensorflow_backend.py:517: The name tf.placeholder is deprecated. Please use tf.compat.v1.placeholder instead.\n",
            "\n",
            "W0628 00:31:30.641639 140206357174144 deprecation_wrapper.py:119] From /usr/local/lib/python3.6/dist-packages/keras/backend/tensorflow_backend.py:4185: The name tf.truncated_normal is deprecated. Please use tf.random.truncated_normal instead.\n",
            "\n",
            "W0628 00:31:30.666599 140206357174144 deprecation_wrapper.py:119] From /usr/local/lib/python3.6/dist-packages/keras/backend/tensorflow_backend.py:174: The name tf.get_default_session is deprecated. Please use tf.compat.v1.get_default_session instead.\n",
            "\n",
            "W0628 00:31:30.667522 140206357174144 deprecation_wrapper.py:119] From /usr/local/lib/python3.6/dist-packages/keras/backend/tensorflow_backend.py:181: The name tf.ConfigProto is deprecated. Please use tf.compat.v1.ConfigProto instead.\n",
            "\n",
            "W0628 00:31:32.380498 140206357174144 deprecation_wrapper.py:119] From /usr/local/lib/python3.6/dist-packages/keras/backend/tensorflow_backend.py:1834: The name tf.nn.fused_batch_norm is deprecated. Please use tf.compat.v1.nn.fused_batch_norm instead.\n",
            "\n",
            "W0628 00:31:32.451244 140206357174144 deprecation_wrapper.py:119] From /usr/local/lib/python3.6/dist-packages/keras/backend/tensorflow_backend.py:3976: The name tf.nn.max_pool is deprecated. Please use tf.nn.max_pool2d instead.\n",
            "\n"
          ],
          "name": "stderr"
        },
        {
          "output_type": "stream",
          "text": [
            "resnet imported..\n"
          ],
          "name": "stdout"
        }
      ]
    },
    {
      "cell_type": "code",
      "metadata": {
        "id": "34bV1zTv1k3G",
        "colab_type": "code",
        "colab": {}
      },
      "source": [
        "from keras.preprocessing import image  \n",
        "from tqdm import tqdm\n",
        "\n",
        "def path_to_tensor(img_path):\n",
        "    # loads RGB image as PIL.Image.Image type\n",
        "    img = image.load_img(img_path, target_size=(224, 224))\n",
        "    # convert PIL.Image.Image type to 3D tensor with shape (224, 224, 3)\n",
        "    x = image.img_to_array(img)\n",
        "    # convert 3D tensor to 4D tensor with shape (1, 224, 224, 3) and return 4D tensor\n",
        "    return np.expand_dims(x, axis=0)\n",
        "\n",
        "def paths_to_tensor(img_paths):\n",
        "    list_of_tensors = [path_to_tensor(img_path) for img_path in tqdm(img_paths)]\n",
        "    return np.vstack(list_of_tensors)"
      ],
      "execution_count": 0,
      "outputs": []
    },
    {
      "cell_type": "code",
      "metadata": {
        "id": "Ez6rOp3A2R5d",
        "colab_type": "code",
        "outputId": "30b1dcf4-269a-4fa9-b029-977a652a97b2",
        "colab": {
          "base_uri": "https://localhost:8080/",
          "height": 34
        }
      },
      "source": [
        "from keras.applications.resnet50 import preprocess_input, decode_predictions\n",
        "print(\"libraries from resnet imported..\")\n",
        "\n",
        "def ResNet50_predict_labels(img_path):\n",
        "    # returns prediction vector for image located at img_path\n",
        "    img = preprocess_input(path_to_tensor(img_path))\n",
        "    return np.argmax(ResNet_model.predict(img))"
      ],
      "execution_count": 14,
      "outputs": [
        {
          "output_type": "stream",
          "text": [
            "libraries from resnet imported..\n"
          ],
          "name": "stdout"
        }
      ]
    },
    {
      "cell_type": "code",
      "metadata": {
        "id": "gf7pyk4t2X3s",
        "colab_type": "code",
        "colab": {}
      },
      "source": [
        "def dog_detector(img_path):\n",
        "    prediction = ResNet50_predict_labels(img_path)\n",
        "    return ((prediction <= 268) & (prediction >= 151)) "
      ],
      "execution_count": 0,
      "outputs": []
    },
    {
      "cell_type": "code",
      "metadata": {
        "id": "jS7voDlZ2gQP",
        "colab_type": "code",
        "outputId": "558cc584-d1fe-4a76-80b4-64c9fb5156b1",
        "colab": {
          "base_uri": "https://localhost:8080/",
          "height": 68
        }
      },
      "source": [
        "### on the images in human_files_short and dog_files_short.\n",
        "\n",
        "num_trues_1 = 0\n",
        "for i in human_files_short:\n",
        "    pred = dog_detector(i)\n",
        "    if pred == True:\n",
        "        num_trues_1 = num_trues_1+1\n",
        "        \n",
        "print(\"human files processed..\")\n",
        "num_trues_2 = 0\n",
        "for i in dog_files_short:\n",
        "    pred = dog_detector(i)\n",
        "    if pred == True:\n",
        "        num_trues_2 = num_trues_2+1\n",
        "## on the images in human_files_short and dog_files_short.\n",
        "\n",
        "print (\"Percentage of detected dogs in first 100 human_files is %f\" % ((num_trues_1/100)*100))\n",
        "print (\"Percentage of detected dogs in first 100 dog_files is %f\" % ((num_trues_2/100)*100))"
      ],
      "execution_count": 16,
      "outputs": [
        {
          "output_type": "stream",
          "text": [
            "human files processed..\n",
            "Percentage of detected dogs in first 100 human_files is 0.000000\n",
            "Percentage of detected dogs in first 100 dog_files is 100.000000\n"
          ],
          "name": "stdout"
        }
      ]
    },
    {
      "cell_type": "code",
      "metadata": {
        "id": "TOwHiWH1_Okk",
        "colab_type": "code",
        "outputId": "14522b9b-c866-4928-dec1-bc45a930a372",
        "colab": {
          "base_uri": "https://localhost:8080/",
          "height": 68
        }
      },
      "source": [
        "from PIL import ImageFile                            \n",
        "ImageFile.LOAD_TRUNCATED_IMAGES = True                 \n",
        "\n",
        "# pre-process the data for Keras\n",
        "train_tensors = paths_to_tensor(train_files).astype('float32')/255\n",
        "valid_tensors = paths_to_tensor(valid_files).astype('float32')/255\n",
        "test_tensors = paths_to_tensor(test_files).astype('float32')/255"
      ],
      "execution_count": 17,
      "outputs": [
        {
          "output_type": "stream",
          "text": [
            "100%|██████████| 6680/6680 [01:00<00:00, 110.53it/s]\n",
            "100%|██████████| 835/835 [00:08<00:00, 94.65it/s] \n",
            "100%|██████████| 836/836 [00:08<00:00, 137.14it/s]\n"
          ],
          "name": "stderr"
        }
      ]
    },
    {
      "cell_type": "code",
      "metadata": {
        "id": "idIpSq_D2qWy",
        "colab_type": "code",
        "outputId": "71b10157-16f4-4407-c738-6c35b1e91796",
        "colab": {
          "base_uri": "https://localhost:8080/",
          "height": 547
        }
      },
      "source": [
        "from keras.layers import Conv2D, MaxPooling2D, GlobalAveragePooling2D\n",
        "from keras.layers import Dropout, Flatten, Dense\n",
        "from keras.models import Sequential\n",
        "\n",
        "model = Sequential()\n",
        "\n",
        "model.add(Conv2D(32, (5, 5), activation='relu', input_shape=(224,224,3)))\n",
        "model.add(MaxPooling2D(pool_size=(2,2)))\n",
        "\n",
        "model.add(Conv2D(32, (3, 3), activation='relu'))\n",
        "model.add(MaxPooling2D(pool_size=(2,2)))\n",
        "model.add(Flatten())\n",
        "\n",
        "model.add(Dense(128, activation='relu', kernel_initializer=\"uniform\"))\n",
        "model.add(Dropout(0.4))\n",
        "\n",
        "model.add(Dense(32, activation='relu', kernel_initializer=\"uniform\"))\n",
        "model.add(Dropout(0.4))\n",
        "\n",
        "model.add(Dense(133, activation='softmax'))\n",
        "\n",
        "model.summary()"
      ],
      "execution_count": 18,
      "outputs": [
        {
          "output_type": "stream",
          "text": [
            "W0628 00:33:24.637454 140206357174144 deprecation.py:506] From /usr/local/lib/python3.6/dist-packages/keras/backend/tensorflow_backend.py:3445: calling dropout (from tensorflow.python.ops.nn_ops) with keep_prob is deprecated and will be removed in a future version.\n",
            "Instructions for updating:\n",
            "Please use `rate` instead of `keep_prob`. Rate should be set to `rate = 1 - keep_prob`.\n"
          ],
          "name": "stderr"
        },
        {
          "output_type": "stream",
          "text": [
            "_________________________________________________________________\n",
            "Layer (type)                 Output Shape              Param #   \n",
            "=================================================================\n",
            "conv2d_1 (Conv2D)            (None, 220, 220, 32)      2432      \n",
            "_________________________________________________________________\n",
            "max_pooling2d_2 (MaxPooling2 (None, 110, 110, 32)      0         \n",
            "_________________________________________________________________\n",
            "conv2d_2 (Conv2D)            (None, 108, 108, 32)      9248      \n",
            "_________________________________________________________________\n",
            "max_pooling2d_3 (MaxPooling2 (None, 54, 54, 32)        0         \n",
            "_________________________________________________________________\n",
            "flatten_1 (Flatten)          (None, 93312)             0         \n",
            "_________________________________________________________________\n",
            "dense_1 (Dense)              (None, 128)               11944064  \n",
            "_________________________________________________________________\n",
            "dropout_1 (Dropout)          (None, 128)               0         \n",
            "_________________________________________________________________\n",
            "dense_2 (Dense)              (None, 32)                4128      \n",
            "_________________________________________________________________\n",
            "dropout_2 (Dropout)          (None, 32)                0         \n",
            "_________________________________________________________________\n",
            "dense_3 (Dense)              (None, 133)               4389      \n",
            "=================================================================\n",
            "Total params: 11,964,261\n",
            "Trainable params: 11,964,261\n",
            "Non-trainable params: 0\n",
            "_________________________________________________________________\n"
          ],
          "name": "stdout"
        }
      ]
    },
    {
      "cell_type": "code",
      "metadata": {
        "id": "OwWBLrJO_s0x",
        "colab_type": "code",
        "colab": {
          "base_uri": "https://localhost:8080/",
          "height": 71
        },
        "outputId": "f6badb96-506a-41e0-cb9c-fb64e48c1f24"
      },
      "source": [
        "model.compile(optimizer='rmsprop', loss='categorical_crossentropy', metrics=['accuracy'])"
      ],
      "execution_count": 19,
      "outputs": [
        {
          "output_type": "stream",
          "text": [
            "W0628 00:33:24.715453 140206357174144 deprecation_wrapper.py:119] From /usr/local/lib/python3.6/dist-packages/keras/optimizers.py:790: The name tf.train.Optimizer is deprecated. Please use tf.compat.v1.train.Optimizer instead.\n",
            "\n"
          ],
          "name": "stderr"
        }
      ]
    },
    {
      "cell_type": "code",
      "metadata": {
        "id": "RsI_Oirf_tic",
        "colab_type": "code",
        "outputId": "d0de0c63-2480-4976-bf6a-1310dd749496",
        "colab": {
          "base_uri": "https://localhost:8080/",
          "height": 1000
        }
      },
      "source": [
        "from keras.callbacks import ModelCheckpoint  \n",
        "\n",
        "### TODO: specify the number of epochs that you would like to use to train the model.\n",
        "\n",
        "epochs = 50\n",
        "\n",
        "### Do NOT modify the code below this line.\n",
        "\n",
        "checkpointer = ModelCheckpoint(filepath='/content/drive/My Drive/Colab Notebooks/dog-project/saved_models/weights.best.from_scratch.hdf5', \n",
        "                               verbose=1, save_best_only=True)\n",
        "\n",
        "model.fit(train_tensors, train_targets, \n",
        "          validation_data=(valid_tensors, valid_targets),\n",
        "          epochs=epochs, batch_size=20, callbacks=[checkpointer], verbose=1)"
      ],
      "execution_count": 20,
      "outputs": [
        {
          "output_type": "stream",
          "text": [
            "W0628 00:33:24.911739 140206357174144 deprecation.py:323] From /usr/local/lib/python3.6/dist-packages/tensorflow/python/ops/math_grad.py:1250: add_dispatch_support.<locals>.wrapper (from tensorflow.python.ops.array_ops) is deprecated and will be removed in a future version.\n",
            "Instructions for updating:\n",
            "Use tf.where in 2.0, which has the same broadcast rule as np.where\n"
          ],
          "name": "stderr"
        },
        {
          "output_type": "stream",
          "text": [
            "Train on 6680 samples, validate on 835 samples\n",
            "Epoch 1/50\n",
            "6680/6680 [==============================] - 15s 2ms/step - loss: 4.9011 - acc: 0.0102 - val_loss: 4.8834 - val_acc: 0.0108\n",
            "\n",
            "Epoch 00001: val_loss improved from inf to 4.88343, saving model to /content/drive/My Drive/Colab Notebooks/dog-project/saved_models/weights.best.from_scratch.hdf5\n",
            "Epoch 2/50\n",
            "6680/6680 [==============================] - 13s 2ms/step - loss: 4.8851 - acc: 0.0117 - val_loss: 4.8424 - val_acc: 0.0096\n",
            "\n",
            "Epoch 00002: val_loss improved from 4.88343 to 4.84241, saving model to /content/drive/My Drive/Colab Notebooks/dog-project/saved_models/weights.best.from_scratch.hdf5\n",
            "Epoch 3/50\n",
            "6680/6680 [==============================] - 13s 2ms/step - loss: 4.8345 - acc: 0.0150 - val_loss: 4.8163 - val_acc: 0.0132\n",
            "\n",
            "Epoch 00003: val_loss improved from 4.84241 to 4.81626, saving model to /content/drive/My Drive/Colab Notebooks/dog-project/saved_models/weights.best.from_scratch.hdf5\n",
            "Epoch 4/50\n",
            "6680/6680 [==============================] - 13s 2ms/step - loss: 4.7476 - acc: 0.0186 - val_loss: 4.7176 - val_acc: 0.0180\n",
            "\n",
            "Epoch 00004: val_loss improved from 4.81626 to 4.71764, saving model to /content/drive/My Drive/Colab Notebooks/dog-project/saved_models/weights.best.from_scratch.hdf5\n",
            "Epoch 5/50\n",
            "6680/6680 [==============================] - 13s 2ms/step - loss: 4.6470 - acc: 0.0269 - val_loss: 4.6077 - val_acc: 0.0299\n",
            "\n",
            "Epoch 00005: val_loss improved from 4.71764 to 4.60772, saving model to /content/drive/My Drive/Colab Notebooks/dog-project/saved_models/weights.best.from_scratch.hdf5\n",
            "Epoch 6/50\n",
            "6680/6680 [==============================] - 13s 2ms/step - loss: 4.5201 - acc: 0.0329 - val_loss: 4.5261 - val_acc: 0.0431\n",
            "\n",
            "Epoch 00006: val_loss improved from 4.60772 to 4.52606, saving model to /content/drive/My Drive/Colab Notebooks/dog-project/saved_models/weights.best.from_scratch.hdf5\n",
            "Epoch 7/50\n",
            "6680/6680 [==============================] - 13s 2ms/step - loss: 4.3494 - acc: 0.0528 - val_loss: 4.4936 - val_acc: 0.0539\n",
            "\n",
            "Epoch 00007: val_loss improved from 4.52606 to 4.49357, saving model to /content/drive/My Drive/Colab Notebooks/dog-project/saved_models/weights.best.from_scratch.hdf5\n",
            "Epoch 8/50\n",
            "6680/6680 [==============================] - 13s 2ms/step - loss: 4.1500 - acc: 0.0668 - val_loss: 4.4954 - val_acc: 0.0515\n",
            "\n",
            "Epoch 00008: val_loss did not improve from 4.49357\n",
            "Epoch 9/50\n",
            "6680/6680 [==============================] - 13s 2ms/step - loss: 3.9417 - acc: 0.0919 - val_loss: 4.4628 - val_acc: 0.0479\n",
            "\n",
            "Epoch 00009: val_loss improved from 4.49357 to 4.46283, saving model to /content/drive/My Drive/Colab Notebooks/dog-project/saved_models/weights.best.from_scratch.hdf5\n",
            "Epoch 10/50\n",
            "6680/6680 [==============================] - 13s 2ms/step - loss: 3.7386 - acc: 0.1186 - val_loss: 4.4949 - val_acc: 0.0695\n",
            "\n",
            "Epoch 00010: val_loss did not improve from 4.46283\n",
            "Epoch 11/50\n",
            "6680/6680 [==============================] - 13s 2ms/step - loss: 3.5587 - acc: 0.1373 - val_loss: 4.5433 - val_acc: 0.0539\n",
            "\n",
            "Epoch 00011: val_loss did not improve from 4.46283\n",
            "Epoch 12/50\n",
            "6680/6680 [==============================] - 13s 2ms/step - loss: 3.4014 - acc: 0.1657 - val_loss: 4.5885 - val_acc: 0.0491\n",
            "\n",
            "Epoch 00012: val_loss did not improve from 4.46283\n",
            "Epoch 13/50\n",
            "6680/6680 [==============================] - 13s 2ms/step - loss: 3.2299 - acc: 0.1867 - val_loss: 4.6349 - val_acc: 0.0467\n",
            "\n",
            "Epoch 00013: val_loss did not improve from 4.46283\n",
            "Epoch 14/50\n",
            "6680/6680 [==============================] - 13s 2ms/step - loss: 3.0708 - acc: 0.2214 - val_loss: 4.7506 - val_acc: 0.0551\n",
            "\n",
            "Epoch 00014: val_loss did not improve from 4.46283\n",
            "Epoch 15/50\n",
            "6680/6680 [==============================] - 13s 2ms/step - loss: 2.9584 - acc: 0.2392 - val_loss: 5.1589 - val_acc: 0.0539\n",
            "\n",
            "Epoch 00015: val_loss did not improve from 4.46283\n",
            "Epoch 16/50\n",
            "6680/6680 [==============================] - 13s 2ms/step - loss: 2.8151 - acc: 0.2651 - val_loss: 4.9352 - val_acc: 0.0527\n",
            "\n",
            "Epoch 00016: val_loss did not improve from 4.46283\n",
            "Epoch 17/50\n",
            "6680/6680 [==============================] - 13s 2ms/step - loss: 2.7132 - acc: 0.2912 - val_loss: 5.0035 - val_acc: 0.0599\n",
            "\n",
            "Epoch 00017: val_loss did not improve from 4.46283\n",
            "Epoch 18/50\n",
            "6680/6680 [==============================] - 13s 2ms/step - loss: 2.5830 - acc: 0.3229 - val_loss: 4.8839 - val_acc: 0.0539\n",
            "\n",
            "Epoch 00018: val_loss did not improve from 4.46283\n",
            "Epoch 19/50\n",
            "6680/6680 [==============================] - 12s 2ms/step - loss: 2.5028 - acc: 0.3394 - val_loss: 5.4342 - val_acc: 0.0623\n",
            "\n",
            "Epoch 00019: val_loss did not improve from 4.46283\n",
            "Epoch 20/50\n",
            "6680/6680 [==============================] - 12s 2ms/step - loss: 2.4164 - acc: 0.3479 - val_loss: 5.1594 - val_acc: 0.0659\n",
            "\n",
            "Epoch 00020: val_loss did not improve from 4.46283\n",
            "Epoch 21/50\n",
            "6680/6680 [==============================] - 12s 2ms/step - loss: 2.3641 - acc: 0.3723 - val_loss: 5.1846 - val_acc: 0.0551\n",
            "\n",
            "Epoch 00021: val_loss did not improve from 4.46283\n",
            "Epoch 22/50\n",
            "6680/6680 [==============================] - 13s 2ms/step - loss: 2.2724 - acc: 0.3928 - val_loss: 4.9982 - val_acc: 0.0587\n",
            "\n",
            "Epoch 00022: val_loss did not improve from 4.46283\n",
            "Epoch 23/50\n",
            "6680/6680 [==============================] - 13s 2ms/step - loss: 2.1667 - acc: 0.4145 - val_loss: 5.3571 - val_acc: 0.0635\n",
            "\n",
            "Epoch 00023: val_loss did not improve from 4.46283\n",
            "Epoch 24/50\n",
            "6680/6680 [==============================] - 13s 2ms/step - loss: 2.1611 - acc: 0.4106 - val_loss: 5.1235 - val_acc: 0.0527\n",
            "\n",
            "Epoch 00024: val_loss did not improve from 4.46283\n",
            "Epoch 25/50\n",
            "6680/6680 [==============================] - 13s 2ms/step - loss: 2.1090 - acc: 0.4316 - val_loss: 6.4645 - val_acc: 0.0683\n",
            "\n",
            "Epoch 00025: val_loss did not improve from 4.46283\n",
            "Epoch 26/50\n",
            "6680/6680 [==============================] - 13s 2ms/step - loss: 2.0180 - acc: 0.4536 - val_loss: 5.0891 - val_acc: 0.0467\n",
            "\n",
            "Epoch 00026: val_loss did not improve from 4.46283\n",
            "Epoch 27/50\n",
            "6680/6680 [==============================] - 12s 2ms/step - loss: 2.0188 - acc: 0.4445 - val_loss: 5.5854 - val_acc: 0.0659\n",
            "\n",
            "Epoch 00027: val_loss did not improve from 4.46283\n",
            "Epoch 28/50\n",
            "6680/6680 [==============================] - 12s 2ms/step - loss: 1.9600 - acc: 0.4734 - val_loss: 6.3804 - val_acc: 0.0707\n",
            "\n",
            "Epoch 00028: val_loss did not improve from 4.46283\n",
            "Epoch 29/50\n",
            "6680/6680 [==============================] - 12s 2ms/step - loss: 1.9472 - acc: 0.4659 - val_loss: 5.8650 - val_acc: 0.0659\n",
            "\n",
            "Epoch 00029: val_loss did not improve from 4.46283\n",
            "Epoch 30/50\n",
            "6680/6680 [==============================] - 12s 2ms/step - loss: 1.9266 - acc: 0.4817 - val_loss: 4.9577 - val_acc: 0.0515\n",
            "\n",
            "Epoch 00030: val_loss did not improve from 4.46283\n",
            "Epoch 31/50\n",
            "6680/6680 [==============================] - 13s 2ms/step - loss: 1.8893 - acc: 0.4940 - val_loss: 4.9964 - val_acc: 0.0503\n",
            "\n",
            "Epoch 00031: val_loss did not improve from 4.46283\n",
            "Epoch 32/50\n",
            "6680/6680 [==============================] - 13s 2ms/step - loss: 1.8657 - acc: 0.4997 - val_loss: 5.6263 - val_acc: 0.0551\n",
            "\n",
            "Epoch 00032: val_loss did not improve from 4.46283\n",
            "Epoch 33/50\n",
            "6680/6680 [==============================] - 13s 2ms/step - loss: 1.8303 - acc: 0.5036 - val_loss: 5.9490 - val_acc: 0.0515\n",
            "\n",
            "Epoch 00033: val_loss did not improve from 4.46283\n",
            "Epoch 34/50\n",
            "6680/6680 [==============================] - 12s 2ms/step - loss: 1.7804 - acc: 0.5085 - val_loss: 5.8798 - val_acc: 0.0623\n",
            "\n",
            "Epoch 00034: val_loss did not improve from 4.46283\n",
            "Epoch 35/50\n",
            "6680/6680 [==============================] - 12s 2ms/step - loss: 1.8150 - acc: 0.5102 - val_loss: 5.8097 - val_acc: 0.0539\n",
            "\n",
            "Epoch 00035: val_loss did not improve from 4.46283\n",
            "Epoch 36/50\n",
            "6680/6680 [==============================] - 13s 2ms/step - loss: 1.7652 - acc: 0.5283 - val_loss: 5.9970 - val_acc: 0.0479\n",
            "\n",
            "Epoch 00036: val_loss did not improve from 4.46283\n",
            "Epoch 37/50\n",
            "6680/6680 [==============================] - 13s 2ms/step - loss: 1.7355 - acc: 0.5335 - val_loss: 6.3423 - val_acc: 0.0527\n",
            "\n",
            "Epoch 00037: val_loss did not improve from 4.46283\n",
            "Epoch 38/50\n",
            "6680/6680 [==============================] - 12s 2ms/step - loss: 1.7521 - acc: 0.5290 - val_loss: 6.2157 - val_acc: 0.0503\n",
            "\n",
            "Epoch 00038: val_loss did not improve from 4.46283\n",
            "Epoch 39/50\n",
            "6680/6680 [==============================] - 12s 2ms/step - loss: 1.7321 - acc: 0.5425 - val_loss: 6.3888 - val_acc: 0.0551\n",
            "\n",
            "Epoch 00039: val_loss did not improve from 4.46283\n",
            "Epoch 40/50\n",
            "6680/6680 [==============================] - 13s 2ms/step - loss: 1.7164 - acc: 0.5424 - val_loss: 6.8780 - val_acc: 0.0575\n",
            "\n",
            "Epoch 00040: val_loss did not improve from 4.46283\n",
            "Epoch 41/50\n",
            "6680/6680 [==============================] - 13s 2ms/step - loss: 1.6909 - acc: 0.5400 - val_loss: 6.4545 - val_acc: 0.0551\n",
            "\n",
            "Epoch 00041: val_loss did not improve from 4.46283\n",
            "Epoch 42/50\n",
            "6680/6680 [==============================] - 13s 2ms/step - loss: 1.6961 - acc: 0.5464 - val_loss: 7.0655 - val_acc: 0.0539\n",
            "\n",
            "Epoch 00042: val_loss did not improve from 4.46283\n",
            "Epoch 43/50\n",
            "6680/6680 [==============================] - 12s 2ms/step - loss: 1.6898 - acc: 0.5481 - val_loss: 6.2329 - val_acc: 0.0479\n",
            "\n",
            "Epoch 00043: val_loss did not improve from 4.46283\n",
            "Epoch 44/50\n",
            "6680/6680 [==============================] - 12s 2ms/step - loss: 1.6807 - acc: 0.5534 - val_loss: 6.8284 - val_acc: 0.0491\n",
            "\n",
            "Epoch 00044: val_loss did not improve from 4.46283\n",
            "Epoch 45/50\n",
            "6680/6680 [==============================] - 12s 2ms/step - loss: 1.6936 - acc: 0.5546 - val_loss: 6.7263 - val_acc: 0.0599\n",
            "\n",
            "Epoch 00045: val_loss did not improve from 4.46283\n",
            "Epoch 46/50\n",
            "6680/6680 [==============================] - 12s 2ms/step - loss: 1.6436 - acc: 0.5617 - val_loss: 7.4962 - val_acc: 0.0503\n",
            "\n",
            "Epoch 00046: val_loss did not improve from 4.46283\n",
            "Epoch 47/50\n",
            "6680/6680 [==============================] - 12s 2ms/step - loss: 1.6543 - acc: 0.5629 - val_loss: 5.3260 - val_acc: 0.0419\n",
            "\n",
            "Epoch 00047: val_loss did not improve from 4.46283\n",
            "Epoch 48/50\n",
            "6680/6680 [==============================] - 13s 2ms/step - loss: 1.6288 - acc: 0.5633 - val_loss: 5.0682 - val_acc: 0.0132\n",
            "\n",
            "Epoch 00048: val_loss did not improve from 4.46283\n",
            "Epoch 49/50\n",
            "6680/6680 [==============================] - 12s 2ms/step - loss: 1.5867 - acc: 0.5765 - val_loss: 5.5557 - val_acc: 0.0323\n",
            "\n",
            "Epoch 00049: val_loss did not improve from 4.46283\n",
            "Epoch 50/50\n",
            "6680/6680 [==============================] - 12s 2ms/step - loss: 1.6253 - acc: 0.5740 - val_loss: 7.2116 - val_acc: 0.0575\n",
            "\n",
            "Epoch 00050: val_loss did not improve from 4.46283\n"
          ],
          "name": "stdout"
        },
        {
          "output_type": "execute_result",
          "data": {
            "text/plain": [
              "<keras.callbacks.History at 0x7f836e38c1d0>"
            ]
          },
          "metadata": {
            "tags": []
          },
          "execution_count": 20
        }
      ]
    },
    {
      "cell_type": "code",
      "metadata": {
        "id": "qmrr2GoQGnpF",
        "colab_type": "code",
        "colab": {}
      },
      "source": [
        "model.load_weights('/content/drive/My Drive/Colab Notebooks/dog-project/saved_models/weights.best.from_scratch.hdf5')"
      ],
      "execution_count": 0,
      "outputs": []
    },
    {
      "cell_type": "code",
      "metadata": {
        "id": "z6mOjDsAGwri",
        "colab_type": "code",
        "outputId": "3decc681-05b0-49a3-96b1-10e6709764c1",
        "colab": {
          "base_uri": "https://localhost:8080/",
          "height": 34
        }
      },
      "source": [
        "# get index of predicted dog breed for each image in test set\n",
        "dog_breed_predictions = [np.argmax(model.predict(np.expand_dims(tensor, axis=0))) for tensor in test_tensors]\n",
        "\n",
        "# report test accuracy\n",
        "test_accuracy = 100*np.sum(np.array(dog_breed_predictions)==np.argmax(test_targets, axis=1))/len(dog_breed_predictions)\n",
        "print('Test accuracy: %.4f%%' % test_accuracy)"
      ],
      "execution_count": 22,
      "outputs": [
        {
          "output_type": "stream",
          "text": [
            "Test accuracy: 5.6220%\n"
          ],
          "name": "stdout"
        }
      ]
    },
    {
      "cell_type": "code",
      "metadata": {
        "id": "F6DTYdmTGzob",
        "colab_type": "code",
        "colab": {}
      },
      "source": [
        "bottleneck_features = np.load('/content/drive/My Drive/Colab Notebooks/dog-project/bottleneck_features/DogVGG16Data.npz')\n",
        "train_VGG16 = bottleneck_features['train']\n",
        "valid_VGG16 = bottleneck_features['valid']\n",
        "test_VGG16 = bottleneck_features['test']"
      ],
      "execution_count": 0,
      "outputs": []
    },
    {
      "cell_type": "code",
      "metadata": {
        "id": "-LW5kUseNYFU",
        "colab_type": "code",
        "outputId": "84001306-06a2-44fc-f892-57f6577fa2fc",
        "colab": {
          "base_uri": "https://localhost:8080/",
          "height": 204
        }
      },
      "source": [
        "VGG16_model = Sequential()\n",
        "VGG16_model.add(GlobalAveragePooling2D(input_shape=train_VGG16.shape[1:]))\n",
        "VGG16_model.add(Dense(133, activation='softmax'))\n",
        "\n",
        "VGG16_model.summary()"
      ],
      "execution_count": 24,
      "outputs": [
        {
          "output_type": "stream",
          "text": [
            "_________________________________________________________________\n",
            "Layer (type)                 Output Shape              Param #   \n",
            "=================================================================\n",
            "global_average_pooling2d_1 ( (None, 512)               0         \n",
            "_________________________________________________________________\n",
            "dense_4 (Dense)              (None, 133)               68229     \n",
            "=================================================================\n",
            "Total params: 68,229\n",
            "Trainable params: 68,229\n",
            "Non-trainable params: 0\n",
            "_________________________________________________________________\n"
          ],
          "name": "stdout"
        }
      ]
    },
    {
      "cell_type": "code",
      "metadata": {
        "id": "0jigQM3iNc-R",
        "colab_type": "code",
        "colab": {}
      },
      "source": [
        "VGG16_model.compile(loss='categorical_crossentropy', optimizer='rmsprop', metrics=['accuracy'])"
      ],
      "execution_count": 0,
      "outputs": []
    },
    {
      "cell_type": "code",
      "metadata": {
        "id": "ExMzzsxZNhTY",
        "colab_type": "code",
        "outputId": "80e23191-fed7-4d70-c026-022392900832",
        "colab": {
          "base_uri": "https://localhost:8080/",
          "height": 1000
        }
      },
      "source": [
        "checkpointer = ModelCheckpoint(filepath='/content/drive/My Drive/Colab Notebooks/dog-project/saved_models/weights.best.VGG16.hdf5', \n",
        "                               verbose=1, save_best_only=True)\n",
        "\n",
        "VGG16_model.fit(train_VGG16, train_targets, \n",
        "          validation_data=(valid_VGG16, valid_targets),\n",
        "          epochs=20, batch_size=20, callbacks=[checkpointer], verbose=1)"
      ],
      "execution_count": 26,
      "outputs": [
        {
          "output_type": "stream",
          "text": [
            "Train on 6680 samples, validate on 835 samples\n",
            "Epoch 1/20\n",
            "6680/6680 [==============================] - 2s 324us/step - loss: 11.3680 - acc: 0.1536 - val_loss: 9.5801 - val_acc: 0.2719\n",
            "\n",
            "Epoch 00001: val_loss improved from inf to 9.58011, saving model to /content/drive/My Drive/Colab Notebooks/dog-project/saved_models/weights.best.VGG16.hdf5\n",
            "Epoch 2/20\n",
            "6680/6680 [==============================] - 1s 205us/step - loss: 8.5393 - acc: 0.3392 - val_loss: 8.5092 - val_acc: 0.3341\n",
            "\n",
            "Epoch 00002: val_loss improved from 9.58011 to 8.50923, saving model to /content/drive/My Drive/Colab Notebooks/dog-project/saved_models/weights.best.VGG16.hdf5\n",
            "Epoch 3/20\n",
            "6680/6680 [==============================] - 1s 208us/step - loss: 7.6787 - acc: 0.4331 - val_loss: 7.9273 - val_acc: 0.3701\n",
            "\n",
            "Epoch 00003: val_loss improved from 8.50923 to 7.92731, saving model to /content/drive/My Drive/Colab Notebooks/dog-project/saved_models/weights.best.VGG16.hdf5\n",
            "Epoch 4/20\n",
            "6680/6680 [==============================] - 1s 205us/step - loss: 7.2307 - acc: 0.4783 - val_loss: 7.6265 - val_acc: 0.4012\n",
            "\n",
            "Epoch 00004: val_loss improved from 7.92731 to 7.62652, saving model to /content/drive/My Drive/Colab Notebooks/dog-project/saved_models/weights.best.VGG16.hdf5\n",
            "Epoch 5/20\n",
            "6680/6680 [==============================] - 2s 239us/step - loss: 6.9176 - acc: 0.5106 - val_loss: 7.5028 - val_acc: 0.4144\n",
            "\n",
            "Epoch 00005: val_loss improved from 7.62652 to 7.50277, saving model to /content/drive/My Drive/Colab Notebooks/dog-project/saved_models/weights.best.VGG16.hdf5\n",
            "Epoch 6/20\n",
            "6680/6680 [==============================] - 1s 205us/step - loss: 6.7028 - acc: 0.5353 - val_loss: 7.3096 - val_acc: 0.4443\n",
            "\n",
            "Epoch 00006: val_loss improved from 7.50277 to 7.30960, saving model to /content/drive/My Drive/Colab Notebooks/dog-project/saved_models/weights.best.VGG16.hdf5\n",
            "Epoch 7/20\n",
            "6680/6680 [==============================] - 1s 201us/step - loss: 6.5489 - acc: 0.5557 - val_loss: 7.2874 - val_acc: 0.4491\n",
            "\n",
            "Epoch 00007: val_loss improved from 7.30960 to 7.28736, saving model to /content/drive/My Drive/Colab Notebooks/dog-project/saved_models/weights.best.VGG16.hdf5\n",
            "Epoch 8/20\n",
            "6680/6680 [==============================] - 1s 205us/step - loss: 6.3417 - acc: 0.5716 - val_loss: 7.0120 - val_acc: 0.4695\n",
            "\n",
            "Epoch 00008: val_loss improved from 7.28736 to 7.01199, saving model to /content/drive/My Drive/Colab Notebooks/dog-project/saved_models/weights.best.VGG16.hdf5\n",
            "Epoch 9/20\n",
            "6680/6680 [==============================] - 1s 203us/step - loss: 6.1793 - acc: 0.5874 - val_loss: 7.0291 - val_acc: 0.4611\n",
            "\n",
            "Epoch 00009: val_loss did not improve from 7.01199\n",
            "Epoch 10/20\n",
            "6680/6680 [==============================] - 1s 211us/step - loss: 6.0770 - acc: 0.5991 - val_loss: 6.9541 - val_acc: 0.4695\n",
            "\n",
            "Epoch 00010: val_loss improved from 7.01199 to 6.95413, saving model to /content/drive/My Drive/Colab Notebooks/dog-project/saved_models/weights.best.VGG16.hdf5\n",
            "Epoch 11/20\n",
            "6680/6680 [==============================] - 1s 209us/step - loss: 5.9993 - acc: 0.6085 - val_loss: 6.8701 - val_acc: 0.4802\n",
            "\n",
            "Epoch 00011: val_loss improved from 6.95413 to 6.87014, saving model to /content/drive/My Drive/Colab Notebooks/dog-project/saved_models/weights.best.VGG16.hdf5\n",
            "Epoch 12/20\n",
            "6680/6680 [==============================] - 1s 204us/step - loss: 5.9130 - acc: 0.6187 - val_loss: 6.8328 - val_acc: 0.4814\n",
            "\n",
            "Epoch 00012: val_loss improved from 6.87014 to 6.83281, saving model to /content/drive/My Drive/Colab Notebooks/dog-project/saved_models/weights.best.VGG16.hdf5\n",
            "Epoch 13/20\n",
            "6680/6680 [==============================] - 1s 205us/step - loss: 5.8663 - acc: 0.6235 - val_loss: 6.7673 - val_acc: 0.4982\n",
            "\n",
            "Epoch 00013: val_loss improved from 6.83281 to 6.76729, saving model to /content/drive/My Drive/Colab Notebooks/dog-project/saved_models/weights.best.VGG16.hdf5\n",
            "Epoch 14/20\n",
            "6680/6680 [==============================] - 1s 205us/step - loss: 5.6481 - acc: 0.6284 - val_loss: 6.6027 - val_acc: 0.4946\n",
            "\n",
            "Epoch 00014: val_loss improved from 6.76729 to 6.60265, saving model to /content/drive/My Drive/Colab Notebooks/dog-project/saved_models/weights.best.VGG16.hdf5\n",
            "Epoch 15/20\n",
            "6680/6680 [==============================] - 1s 203us/step - loss: 5.4677 - acc: 0.6376 - val_loss: 6.4909 - val_acc: 0.5006\n",
            "\n",
            "Epoch 00015: val_loss improved from 6.60265 to 6.49090, saving model to /content/drive/My Drive/Colab Notebooks/dog-project/saved_models/weights.best.VGG16.hdf5\n",
            "Epoch 16/20\n",
            "6680/6680 [==============================] - 1s 202us/step - loss: 5.2831 - acc: 0.6515 - val_loss: 6.3867 - val_acc: 0.5174\n",
            "\n",
            "Epoch 00016: val_loss improved from 6.49090 to 6.38666, saving model to /content/drive/My Drive/Colab Notebooks/dog-project/saved_models/weights.best.VGG16.hdf5\n",
            "Epoch 17/20\n",
            "6680/6680 [==============================] - 1s 205us/step - loss: 5.2277 - acc: 0.6603 - val_loss: 6.3250 - val_acc: 0.5186\n",
            "\n",
            "Epoch 00017: val_loss improved from 6.38666 to 6.32502, saving model to /content/drive/My Drive/Colab Notebooks/dog-project/saved_models/weights.best.VGG16.hdf5\n",
            "Epoch 18/20\n",
            "6680/6680 [==============================] - 1s 204us/step - loss: 5.2037 - acc: 0.6647 - val_loss: 6.2936 - val_acc: 0.5198\n",
            "\n",
            "Epoch 00018: val_loss improved from 6.32502 to 6.29361, saving model to /content/drive/My Drive/Colab Notebooks/dog-project/saved_models/weights.best.VGG16.hdf5\n",
            "Epoch 19/20\n",
            "6680/6680 [==============================] - 1s 205us/step - loss: 5.1811 - acc: 0.6723 - val_loss: 6.2418 - val_acc: 0.5269\n",
            "\n",
            "Epoch 00019: val_loss improved from 6.29361 to 6.24179, saving model to /content/drive/My Drive/Colab Notebooks/dog-project/saved_models/weights.best.VGG16.hdf5\n",
            "Epoch 20/20\n",
            "6680/6680 [==============================] - 1s 198us/step - loss: 5.1729 - acc: 0.6729 - val_loss: 6.3000 - val_acc: 0.5257\n",
            "\n",
            "Epoch 00020: val_loss did not improve from 6.24179\n"
          ],
          "name": "stdout"
        },
        {
          "output_type": "execute_result",
          "data": {
            "text/plain": [
              "<keras.callbacks.History at 0x7f800ff4d588>"
            ]
          },
          "metadata": {
            "tags": []
          },
          "execution_count": 26
        }
      ]
    },
    {
      "cell_type": "code",
      "metadata": {
        "id": "b-woQpMCN23D",
        "colab_type": "code",
        "colab": {}
      },
      "source": [
        "VGG16_model.load_weights('/content/drive/My Drive/Colab Notebooks/dog-project/saved_models/weights.best.VGG16.hdf5')"
      ],
      "execution_count": 0,
      "outputs": []
    },
    {
      "cell_type": "code",
      "metadata": {
        "id": "1Yu0Z65HOK9W",
        "colab_type": "code",
        "outputId": "91a12157-fa03-4295-95a2-4ac3cd11319b",
        "colab": {
          "base_uri": "https://localhost:8080/",
          "height": 34
        }
      },
      "source": [
        "VGG16_predictions = [np.argmax(VGG16_model.predict(np.expand_dims(feature, axis=0))) for feature in test_VGG16]\n",
        "\n",
        "# report test accuracy\n",
        "test_accuracy = 100*np.sum(np.array(VGG16_predictions)==np.argmax(test_targets, axis=1))/len(VGG16_predictions)\n",
        "print('Test accuracy: %.4f%%' % test_accuracy)"
      ],
      "execution_count": 28,
      "outputs": [
        {
          "output_type": "stream",
          "text": [
            "Test accuracy: 52.6316%\n"
          ],
          "name": "stdout"
        }
      ]
    },
    {
      "cell_type": "code",
      "metadata": {
        "id": "wqz8u1HDTGCe",
        "colab_type": "code",
        "colab": {}
      },
      "source": [
        "bottleneck_features = np.load('/content/drive/My Drive/Colab Notebooks/dog-project/bottleneck_features/DogResnet50Data.npz')\n",
        "train_RESNET50 = bottleneck_features['train']\n",
        "valid_RESNET50 = bottleneck_features['valid']\n",
        "test_RESNET50 = bottleneck_features['test']"
      ],
      "execution_count": 0,
      "outputs": []
    },
    {
      "cell_type": "code",
      "metadata": {
        "id": "2wx1syIlUery",
        "colab_type": "code",
        "outputId": "b2a954ee-79a7-46e0-fc4d-da883a8b16e3",
        "colab": {
          "base_uri": "https://localhost:8080/",
          "height": 340
        }
      },
      "source": [
        "from keras.layers import Dropout\n",
        "\n",
        "modelTransfer = Sequential()\n",
        "modelTransfer.add(GlobalAveragePooling2D(input_shape=train_RESNET50.shape[1:]))\n",
        "modelTransfer.add(Dense(400, activation='relu'))\n",
        "modelTransfer.add(Dropout(0.2))\n",
        "modelTransfer.add(Dense(200, activation='relu'))\n",
        "modelTransfer.add(Dropout(0.2))\n",
        "modelTransfer.add(Dense(133, activation='softmax'))\n",
        "\n",
        "modelTransfer.summary()"
      ],
      "execution_count": 32,
      "outputs": [
        {
          "output_type": "stream",
          "text": [
            "_________________________________________________________________\n",
            "Layer (type)                 Output Shape              Param #   \n",
            "=================================================================\n",
            "global_average_pooling2d_2 ( (None, 2048)              0         \n",
            "_________________________________________________________________\n",
            "dense_5 (Dense)              (None, 400)               819600    \n",
            "_________________________________________________________________\n",
            "dropout_3 (Dropout)          (None, 400)               0         \n",
            "_________________________________________________________________\n",
            "dense_6 (Dense)              (None, 200)               80200     \n",
            "_________________________________________________________________\n",
            "dropout_4 (Dropout)          (None, 200)               0         \n",
            "_________________________________________________________________\n",
            "dense_7 (Dense)              (None, 133)               26733     \n",
            "=================================================================\n",
            "Total params: 926,533\n",
            "Trainable params: 926,533\n",
            "Non-trainable params: 0\n",
            "_________________________________________________________________\n"
          ],
          "name": "stdout"
        }
      ]
    },
    {
      "cell_type": "code",
      "metadata": {
        "id": "57voxgPtUjBR",
        "colab_type": "code",
        "colab": {}
      },
      "source": [
        "modelTransfer.compile(loss='categorical_crossentropy', optimizer='rmsprop', metrics=['accuracy'])"
      ],
      "execution_count": 0,
      "outputs": []
    },
    {
      "cell_type": "code",
      "metadata": {
        "id": "ThI4qDjEUnBc",
        "colab_type": "code",
        "outputId": "a68c2606-3498-4b52-e2c0-f1d585ad70e4",
        "colab": {
          "base_uri": "https://localhost:8080/",
          "height": 1000
        }
      },
      "source": [
        "from keras.callbacks import ModelCheckpoint \n",
        "\n",
        "checkpointer = ModelCheckpoint(filepath='/content/drive/My Drive/Colab Notebooks/dog-project/saved_models/weights.best4.RESNET50.hdf5', \n",
        "                               verbose=1, save_best_only=True)\n",
        "\n",
        "modelTransfer.fit(train_RESNET50, train_targets, \n",
        "          validation_data=(valid_RESNET50, valid_targets),\n",
        "          epochs=30, batch_size=128, callbacks=[checkpointer], verbose=1)"
      ],
      "execution_count": 34,
      "outputs": [
        {
          "output_type": "stream",
          "text": [
            "Train on 6680 samples, validate on 835 samples\n",
            "Epoch 1/30\n",
            "6680/6680 [==============================] - 1s 180us/step - loss: 3.1975 - acc: 0.2847 - val_loss: 1.7204 - val_acc: 0.5521\n",
            "\n",
            "Epoch 00001: val_loss improved from inf to 1.72036, saving model to /content/drive/My Drive/Colab Notebooks/dog-project/saved_models/weights.best4.RESNET50.hdf5\n",
            "Epoch 2/30\n",
            "6680/6680 [==============================] - 0s 41us/step - loss: 1.3669 - acc: 0.6073 - val_loss: 1.0497 - val_acc: 0.6850\n",
            "\n",
            "Epoch 00002: val_loss improved from 1.72036 to 1.04972, saving model to /content/drive/My Drive/Colab Notebooks/dog-project/saved_models/weights.best4.RESNET50.hdf5\n",
            "Epoch 3/30\n",
            "6680/6680 [==============================] - 0s 40us/step - loss: 0.8931 - acc: 0.7274 - val_loss: 1.0231 - val_acc: 0.6910\n",
            "\n",
            "Epoch 00003: val_loss improved from 1.04972 to 1.02313, saving model to /content/drive/My Drive/Colab Notebooks/dog-project/saved_models/weights.best4.RESNET50.hdf5\n",
            "Epoch 4/30\n",
            "6680/6680 [==============================] - 0s 41us/step - loss: 0.6935 - acc: 0.7840 - val_loss: 0.8745 - val_acc: 0.7389\n",
            "\n",
            "Epoch 00004: val_loss improved from 1.02313 to 0.87446, saving model to /content/drive/My Drive/Colab Notebooks/dog-project/saved_models/weights.best4.RESNET50.hdf5\n",
            "Epoch 5/30\n",
            "6680/6680 [==============================] - 0s 39us/step - loss: 0.5529 - acc: 0.8278 - val_loss: 0.9480 - val_acc: 0.7425\n",
            "\n",
            "Epoch 00005: val_loss did not improve from 0.87446\n",
            "Epoch 6/30\n",
            "6680/6680 [==============================] - 0s 45us/step - loss: 0.4290 - acc: 0.8662 - val_loss: 0.8515 - val_acc: 0.7413\n",
            "\n",
            "Epoch 00006: val_loss improved from 0.87446 to 0.85153, saving model to /content/drive/My Drive/Colab Notebooks/dog-project/saved_models/weights.best4.RESNET50.hdf5\n",
            "Epoch 7/30\n",
            "6680/6680 [==============================] - 0s 40us/step - loss: 0.3522 - acc: 0.8874 - val_loss: 0.9145 - val_acc: 0.7377\n",
            "\n",
            "Epoch 00007: val_loss did not improve from 0.85153\n",
            "Epoch 8/30\n",
            "6680/6680 [==============================] - 0s 39us/step - loss: 0.3062 - acc: 0.9009 - val_loss: 0.7738 - val_acc: 0.7844\n",
            "\n",
            "Epoch 00008: val_loss improved from 0.85153 to 0.77375, saving model to /content/drive/My Drive/Colab Notebooks/dog-project/saved_models/weights.best4.RESNET50.hdf5\n",
            "Epoch 9/30\n",
            "6680/6680 [==============================] - 0s 41us/step - loss: 0.2660 - acc: 0.9123 - val_loss: 0.8900 - val_acc: 0.7629\n",
            "\n",
            "Epoch 00009: val_loss did not improve from 0.77375\n",
            "Epoch 10/30\n",
            "6680/6680 [==============================] - 0s 42us/step - loss: 0.2182 - acc: 0.9290 - val_loss: 0.8009 - val_acc: 0.7940\n",
            "\n",
            "Epoch 00010: val_loss did not improve from 0.77375\n",
            "Epoch 11/30\n",
            "6680/6680 [==============================] - 0s 39us/step - loss: 0.1925 - acc: 0.9347 - val_loss: 0.7861 - val_acc: 0.7964\n",
            "\n",
            "Epoch 00011: val_loss did not improve from 0.77375\n",
            "Epoch 12/30\n",
            "6680/6680 [==============================] - 0s 39us/step - loss: 0.1736 - acc: 0.9377 - val_loss: 0.7924 - val_acc: 0.7964\n",
            "\n",
            "Epoch 00012: val_loss did not improve from 0.77375\n",
            "Epoch 13/30\n",
            "6680/6680 [==============================] - 0s 41us/step - loss: 0.1576 - acc: 0.9499 - val_loss: 0.8201 - val_acc: 0.7952\n",
            "\n",
            "Epoch 00013: val_loss did not improve from 0.77375\n",
            "Epoch 14/30\n",
            "6680/6680 [==============================] - 0s 42us/step - loss: 0.1383 - acc: 0.9515 - val_loss: 0.7662 - val_acc: 0.8120\n",
            "\n",
            "Epoch 00014: val_loss improved from 0.77375 to 0.76618, saving model to /content/drive/My Drive/Colab Notebooks/dog-project/saved_models/weights.best4.RESNET50.hdf5\n",
            "Epoch 15/30\n",
            "6680/6680 [==============================] - 0s 40us/step - loss: 0.1334 - acc: 0.9542 - val_loss: 0.8129 - val_acc: 0.7928\n",
            "\n",
            "Epoch 00015: val_loss did not improve from 0.76618\n",
            "Epoch 16/30\n",
            "6680/6680 [==============================] - 0s 39us/step - loss: 0.1148 - acc: 0.9576 - val_loss: 0.7875 - val_acc: 0.7904\n",
            "\n",
            "Epoch 00016: val_loss did not improve from 0.76618\n",
            "Epoch 17/30\n",
            "6680/6680 [==============================] - 0s 41us/step - loss: 0.1151 - acc: 0.9606 - val_loss: 0.7433 - val_acc: 0.8012\n",
            "\n",
            "Epoch 00017: val_loss improved from 0.76618 to 0.74335, saving model to /content/drive/My Drive/Colab Notebooks/dog-project/saved_models/weights.best4.RESNET50.hdf5\n",
            "Epoch 18/30\n",
            "6680/6680 [==============================] - 0s 39us/step - loss: 0.0918 - acc: 0.9696 - val_loss: 0.7678 - val_acc: 0.8060\n",
            "\n",
            "Epoch 00018: val_loss did not improve from 0.74335\n",
            "Epoch 19/30\n",
            "6680/6680 [==============================] - 0s 40us/step - loss: 0.0907 - acc: 0.9696 - val_loss: 0.9217 - val_acc: 0.7952\n",
            "\n",
            "Epoch 00019: val_loss did not improve from 0.74335\n",
            "Epoch 20/30\n",
            "6680/6680 [==============================] - 0s 39us/step - loss: 0.0943 - acc: 0.9701 - val_loss: 0.8478 - val_acc: 0.8120\n",
            "\n",
            "Epoch 00020: val_loss did not improve from 0.74335\n",
            "Epoch 21/30\n",
            "6680/6680 [==============================] - 0s 41us/step - loss: 0.0833 - acc: 0.9741 - val_loss: 0.8616 - val_acc: 0.7976\n",
            "\n",
            "Epoch 00021: val_loss did not improve from 0.74335\n",
            "Epoch 22/30\n",
            "6680/6680 [==============================] - 0s 39us/step - loss: 0.0720 - acc: 0.9738 - val_loss: 0.8809 - val_acc: 0.8204\n",
            "\n",
            "Epoch 00022: val_loss did not improve from 0.74335\n",
            "Epoch 23/30\n",
            "6680/6680 [==============================] - 0s 40us/step - loss: 0.0725 - acc: 0.9751 - val_loss: 0.8431 - val_acc: 0.8156\n",
            "\n",
            "Epoch 00023: val_loss did not improve from 0.74335\n",
            "Epoch 24/30\n",
            "6680/6680 [==============================] - 0s 39us/step - loss: 0.0676 - acc: 0.9783 - val_loss: 0.8220 - val_acc: 0.8192\n",
            "\n",
            "Epoch 00024: val_loss did not improve from 0.74335\n",
            "Epoch 25/30\n",
            "6680/6680 [==============================] - 0s 41us/step - loss: 0.0682 - acc: 0.9792 - val_loss: 0.9950 - val_acc: 0.8000\n",
            "\n",
            "Epoch 00025: val_loss did not improve from 0.74335\n",
            "Epoch 26/30\n",
            "6680/6680 [==============================] - 0s 39us/step - loss: 0.0717 - acc: 0.9760 - val_loss: 0.9714 - val_acc: 0.7964\n",
            "\n",
            "Epoch 00026: val_loss did not improve from 0.74335\n",
            "Epoch 27/30\n",
            "6680/6680 [==============================] - 0s 38us/step - loss: 0.0623 - acc: 0.9802 - val_loss: 0.9035 - val_acc: 0.8275\n",
            "\n",
            "Epoch 00027: val_loss did not improve from 0.74335\n",
            "Epoch 28/30\n",
            "6680/6680 [==============================] - 0s 39us/step - loss: 0.0650 - acc: 0.9772 - val_loss: 1.0564 - val_acc: 0.7952\n",
            "\n",
            "Epoch 00028: val_loss did not improve from 0.74335\n",
            "Epoch 29/30\n",
            "6680/6680 [==============================] - 0s 40us/step - loss: 0.0633 - acc: 0.9799 - val_loss: 1.0429 - val_acc: 0.7892\n",
            "\n",
            "Epoch 00029: val_loss did not improve from 0.74335\n",
            "Epoch 30/30\n",
            "6680/6680 [==============================] - 0s 38us/step - loss: 0.0588 - acc: 0.9822 - val_loss: 1.0287 - val_acc: 0.8144\n",
            "\n",
            "Epoch 00030: val_loss did not improve from 0.74335\n"
          ],
          "name": "stdout"
        },
        {
          "output_type": "execute_result",
          "data": {
            "text/plain": [
              "<keras.callbacks.History at 0x7f800fb747f0>"
            ]
          },
          "metadata": {
            "tags": []
          },
          "execution_count": 34
        }
      ]
    },
    {
      "cell_type": "code",
      "metadata": {
        "id": "F95pfl6yU-Fl",
        "colab_type": "code",
        "colab": {}
      },
      "source": [
        "modelTransfer.load_weights('/content/drive/My Drive/Colab Notebooks/dog-project/saved_models/weights.best4.RESNET50.hdf5')"
      ],
      "execution_count": 0,
      "outputs": []
    },
    {
      "cell_type": "code",
      "metadata": {
        "id": "jGlbv8ESVD3s",
        "colab_type": "code",
        "outputId": "043f4c6b-11a1-4164-ca38-b0fe44576944",
        "colab": {
          "base_uri": "https://localhost:8080/",
          "height": 34
        }
      },
      "source": [
        "pred = [np.argmax(modelTransfer.predict(np.expand_dims(feature, axis=0))) for feature in test_RESNET50]\n",
        "accuracy = 100*np.sum(np.array(pred)==np.argmax(test_targets, axis=1))/len(pred)\n",
        "print('Test accuracy: %.4f%%' % accuracy)"
      ],
      "execution_count": 40,
      "outputs": [
        {
          "output_type": "stream",
          "text": [
            "Test accuracy: 80.7416%\n"
          ],
          "name": "stdout"
        }
      ]
    },
    {
      "cell_type": "code",
      "metadata": {
        "id": "DKcoa8TEjfV0",
        "colab_type": "code",
        "colab": {}
      },
      "source": [
        ""
      ],
      "execution_count": 0,
      "outputs": []
    }
  ]
}