{
  "nbformat": 4,
  "nbformat_minor": 0,
  "metadata": {
    "colab": {
      "name": "Mnist fashion tensor.ipynb",
      "version": "0.3.2",
      "provenance": [],
      "collapsed_sections": [],
      "include_colab_link": true
    },
    "kernelspec": {
      "name": "python3",
      "display_name": "Python 3"
    }
  },
  "cells": [
    {
      "cell_type": "markdown",
      "metadata": {
        "id": "view-in-github",
        "colab_type": "text"
      },
      "source": [
        "<a href=\"https://colab.research.google.com/github/SriramyaK/Deep-Learning/blob/master/Mnist_fashion_tensor.ipynb\" target=\"_parent\"><img src=\"https://colab.research.google.com/assets/colab-badge.svg\" alt=\"Open In Colab\"/></a>"
      ]
    },
    {
      "cell_type": "code",
      "metadata": {
        "id": "kmj1wARm2J-F",
        "colab_type": "code",
        "colab": {}
      },
      "source": [
        "import numpy as np\n",
        "import pandas as pd\n",
        "from sklearn.model_selection import train_test_split\n",
        "from tensorflow.python import keras\n",
        "from tensorflow.python.keras.models import Sequential\n",
        "from tensorflow.python.keras.layers import Dense, Flatten, Conv2D, Dropout"
      ],
      "execution_count": 0,
      "outputs": []
    },
    {
      "cell_type": "code",
      "metadata": {
        "id": "n0XzbNWg3Kt7",
        "colab_type": "code",
        "colab": {}
      },
      "source": [
        "img_rows,img_cols = 28, 28\n",
        "num_classes = 10\n",
        "\n",
        "def data_prep(raw):\n",
        "  out_y = keras.utils.to_categorical(raw.label, num_classes)\n",
        "  \n",
        "  num_images = raw.shape[0]\n",
        "  x_as_array = raw.values[:,1:]\n",
        "  x_shaped_array = x_as_array.reshape(num_images, img_rows, img_cols, 1)\n",
        "  out_x = x_shaped_array/255\n",
        "  return out_x, out_y"
      ],
      "execution_count": 0,
      "outputs": []
    },
    {
      "cell_type": "code",
      "metadata": {
        "id": "zwGlmD9D5kqk",
        "colab_type": "code",
        "colab": {}
      },
      "source": [
        "train_file = \"https://raw.githubusercontent.com/wehrley/Kaggle-Digit-Recognizer/master/train.csv\"\n",
        "raw_data = pd.read_csv(train_file)"
      ],
      "execution_count": 0,
      "outputs": []
    },
    {
      "cell_type": "code",
      "metadata": {
        "id": "xgWB8jqq6Dkq",
        "colab_type": "code",
        "colab": {
          "base_uri": "https://localhost:8080/",
          "height": 241
        },
        "outputId": "3f7d4047-ecf0-49d2-f2ad-85fcf3e9ce7e"
      },
      "source": [
        "x,y = data_prep(raw_data)\n",
        "\n",
        "model = Sequential()\n",
        "model.add(Conv2D(20,kernel_size=(3,3),\n",
        "                 activation='relu', \n",
        "                 input_shape=(img_rows, img_cols, 1)))\n",
        "model.add(Conv2D(20,kernel_size=(3,3), activation='relu'))\n",
        "model.add(Flatten())\n",
        "model.add(Dense(128, activation='relu'))\n",
        "model.add(Dense(num_classes, activation='softmax'))\n",
        "\n",
        "model.compile(loss=keras.losses.categorical_crossentropy, optimizer = 'adam', metrics=['accuracy'])\n",
        "\n",
        "model.fit(x, y, \n",
        "         batch_size=128,\n",
        "         epochs=2,\n",
        "         validation_split = 0.2)"
      ],
      "execution_count": 14,
      "outputs": [
        {
          "output_type": "stream",
          "text": [
            "WARNING:tensorflow:From /usr/local/lib/python3.6/dist-packages/tensorflow/python/ops/resource_variable_ops.py:435: colocate_with (from tensorflow.python.framework.ops) is deprecated and will be removed in a future version.\n",
            "Instructions for updating:\n",
            "Colocations handled automatically by placer.\n",
            "Train on 33600 samples, validate on 8400 samples\n",
            "WARNING:tensorflow:From /usr/local/lib/python3.6/dist-packages/tensorflow/python/ops/math_ops.py:3066: to_int32 (from tensorflow.python.ops.math_ops) is deprecated and will be removed in a future version.\n",
            "Instructions for updating:\n",
            "Use tf.cast instead.\n",
            "Epoch 1/2\n",
            "33600/33600 [==============================] - 56s 2ms/sample - loss: 0.2448 - acc: 0.9285 - val_loss: 0.0897 - val_acc: 0.9714\n",
            "Epoch 2/2\n",
            "33600/33600 [==============================] - 57s 2ms/sample - loss: 0.0676 - acc: 0.9799 - val_loss: 0.0663 - val_acc: 0.9782\n"
          ],
          "name": "stdout"
        },
        {
          "output_type": "execute_result",
          "data": {
            "text/plain": [
              "<tensorflow.python.keras.callbacks.History at 0x7f5ff3e68278>"
            ]
          },
          "metadata": {
            "tags": []
          },
          "execution_count": 14
        }
      ]
    },
    {
      "cell_type": "code",
      "metadata": {
        "id": "3foZnrOpEGWu",
        "colab_type": "code",
        "colab": {}
      },
      "source": [
        ""
      ],
      "execution_count": 0,
      "outputs": []
    }
  ]
}